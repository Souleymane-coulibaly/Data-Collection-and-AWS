{
 "cells": [
  {
   "cell_type": "code",
   "execution_count": 1,
   "metadata": {},
   "outputs": [],
   "source": [
    "import numpy as np \n"
   ]
  },
  {
   "cell_type": "code",
   "execution_count": 86,
   "metadata": {},
   "outputs": [],
   "source": [
    "#Fichier transfert Patients COVID 18.03 au 10.04.2019\n",
    "transfert_COVID = np.loadtxt(\"transferts-patients-covid19.csv\", delimiter=\",\", dtype=\"U75\")"
   ]
  },
  {
   "cell_type": "code",
   "execution_count": 10,
   "metadata": {},
   "outputs": [
    {
     "data": {
      "text/plain": [
       "array([['debut_transfert', 'fin_transfert', 'type_vecteur',\n",
       "        'region_depart', 'region_arrivee', 'pays_arrivee',\n",
       "        'nombre_patients_transferes'],\n",
       "       ['2020-03-18', '2020-03-18', 'avion', 'Grand Est',\n",
       "        \"Provence-Alpes-Côte-d'Azur\", '', '6'],\n",
       "       ['2020-03-21', '2020-03-21', 'avion', 'Grand Est',\n",
       "        'Nouvelle-Aquitaine', '', '6'],\n",
       "       ['2020-03-22', '2020-03-22', 'bateau militaire', 'Corse',\n",
       "        \"Provence-Alpes-Côte-d'Azur\", '', '12'],\n",
       "       ['2020-03-23', '2020-03-23', 'avion', 'Grand Est', 'Bretagne', '',\n",
       "        '6'],\n",
       "       ['2020-03-26', '2020-03-26', 'train', 'Grand Est',\n",
       "        'Pays-de-la-Loire', '', '20'],\n",
       "       ['2020-03-27', '2020-03-27', 'avion', 'Grand Est',\n",
       "        'Nouvelle-Aquitaine', '', '6'],\n",
       "       ['2020-03-27', '2020-03-28', 'avion', 'Grand Est',\n",
       "        'Nouvelle-Aquitaine', '', '12'],\n",
       "       ['2020-03-28', '2020-03-30', 'avion', 'Île-de-France',\n",
       "        'Centre-Val de Loire', '', '12'],\n",
       "       ['2020-03-27', '2020-03-30', 'avion;train',\n",
       "        'Bourgogne-Franche-Comté', 'Auvergne-Rhône-Alpes', '', '41'],\n",
       "       ['2020-03-28', '2020-03-30', 'avion', 'Bourgogne-Franche-Comté',\n",
       "        \"Provence-Alpes-Côte-d'Azur\", '', '10'],\n",
       "       ['2020-03-29', '2020-03-29', 'train', 'Grand Est',\n",
       "        'Nouvelle-Aquitaine', '', '12'],\n",
       "       ['2020-03-29', '2020-03-29', 'train', 'Grand Est',\n",
       "        'Nouvelle-Aquitaine', '', '24'],\n",
       "       ['2020-03-31', '2020-03-31', 'avion', 'Grand Est', '',\n",
       "        'Allemagne', '6'],\n",
       "       ['2020-04-01', '2020-04-01', 'train', 'Île-de-France', 'Bretagne',\n",
       "        '', '32'],\n",
       "       ['2020-04-01', '2020-04-02', 'avion', 'Grand Est', 'Occitanie',\n",
       "        '', '12'],\n",
       "       ['2020-04-01', '2020-04-03', 'avion', 'Île-de-France',\n",
       "        'Pays-de-la-Loire', '', '47'],\n",
       "       ['2020-04-01', '2020-04-03', 'avion;train', 'Île-de-France',\n",
       "        'Normandie', '', '44'],\n",
       "       ['2020-04-01', '2020-04-03', 'avion', 'Île-de-France',\n",
       "        'Centre-Val de Loire', '', '11'],\n",
       "       ['2020-04-03', '2020-04-03', 'avion', 'Grand Est', 'Occitanie',\n",
       "        '', '6'],\n",
       "       ['2020-04-03', '2020-04-03', 'train', 'Grand Est',\n",
       "        'Nouvelle-Aquitaine', '', '24'],\n",
       "       ['2020-04-03', '2020-04-04', 'avion', 'Île-de-France',\n",
       "        'Auvergne-Rhône-Alpes', '', '20'],\n",
       "       ['2020-04-04', '2020-04-05', 'avion', 'Grand Est', 'Occitanie',\n",
       "        '', '12'],\n",
       "       ['2020-04-05', '2020-04-05', 'train', 'Île-de-France', 'Bretagne',\n",
       "        '', '41'],\n",
       "       ['2020-03-21', '2020-04-05', 'avion;train', 'Grand Est', '',\n",
       "        'Allemagne;Suisse;Luxembourg;Autriche', '172'],\n",
       "       ['2020-03-26', '2020-03-28', 'avion', 'Bourgogne-Franche-Comté',\n",
       "        '', 'Suisse', '5'],\n",
       "       ['2020-04-10', '2020-04-10', 'train', 'Île-de-France',\n",
       "        'Nouvelle-Aquitaine', '', '45']], dtype='<U75')"
      ]
     },
     "execution_count": 10,
     "metadata": {},
     "output_type": "execute_result"
    }
   ],
   "source": [
    "transfert_COVID"
   ]
  },
  {
   "cell_type": "code",
   "execution_count": 36,
   "metadata": {},
   "outputs": [],
   "source": [
    "#Départ des régions \n",
    "region_departs = transfert_COVID[:,3]"
   ]
  },
  {
   "cell_type": "code",
   "execution_count": 12,
   "metadata": {},
   "outputs": [
    {
     "data": {
      "text/plain": [
       "array(['region_depart', 'Grand Est', 'Grand Est', 'Corse', 'Grand Est',\n",
       "       'Grand Est', 'Grand Est', 'Grand Est', 'Île-de-France',\n",
       "       'Bourgogne-Franche-Comté', 'Bourgogne-Franche-Comté', 'Grand Est',\n",
       "       'Grand Est', 'Grand Est', 'Île-de-France', 'Grand Est',\n",
       "       'Île-de-France', 'Île-de-France', 'Île-de-France', 'Grand Est',\n",
       "       'Grand Est', 'Île-de-France', 'Grand Est', 'Île-de-France',\n",
       "       'Grand Est', 'Bourgogne-Franche-Comté', 'Île-de-France'],\n",
       "      dtype='<U75')"
      ]
     },
     "execution_count": 12,
     "metadata": {},
     "output_type": "execute_result"
    }
   ],
   "source": [
    "#Liste départ des régions \n",
    "region_departs"
   ]
  },
  {
   "cell_type": "code",
   "execution_count": 18,
   "metadata": {},
   "outputs": [],
   "source": [
    "#Départ depuis le grand Est \n",
    "nbre_grand_est = (transfert_COVID[:,3] == \"Grand Est\")"
   ]
  },
  {
   "cell_type": "code",
   "execution_count": 19,
   "metadata": {},
   "outputs": [],
   "source": [
    "depart_grand_est = transfert_COVID[nbre_grand_est]"
   ]
  },
  {
   "cell_type": "code",
   "execution_count": 52,
   "metadata": {},
   "outputs": [
    {
     "data": {
      "text/plain": [
       "array([['2020-03-18', '2020-03-18', 'avion', 'Grand Est',\n",
       "        \"Provence-Alpes-Côte-d'Azur\", '', '6'],\n",
       "       ['2020-03-21', '2020-03-21', 'avion', 'Grand Est',\n",
       "        'Nouvelle-Aquitaine', '', '6'],\n",
       "       ['2020-03-23', '2020-03-23', 'avion', 'Grand Est', 'Bretagne', '',\n",
       "        '6'],\n",
       "       ['2020-03-26', '2020-03-26', 'avion', 'Grand Est',\n",
       "        'Pays-de-la-Loire', '', '20'],\n",
       "       ['2020-03-27', '2020-03-27', 'avion', 'Grand Est',\n",
       "        'Nouvelle-Aquitaine', '', '6'],\n",
       "       ['2020-03-27', '2020-03-28', 'avion', 'Grand Est',\n",
       "        'Nouvelle-Aquitaine', '', '12'],\n",
       "       ['2020-03-29', '2020-03-29', 'avion', 'Grand Est',\n",
       "        'Nouvelle-Aquitaine', '', '12'],\n",
       "       ['2020-03-29', '2020-03-29', 'avion', 'Grand Est',\n",
       "        'Nouvelle-Aquitaine', '', '24'],\n",
       "       ['2020-03-31', '2020-03-31', 'avion', 'Grand Est', '',\n",
       "        'Allemagne', '6'],\n",
       "       ['2020-04-01', '2020-04-02', 'avion', 'Grand Est', 'Occitanie',\n",
       "        '', '12'],\n",
       "       ['2020-04-03', '2020-04-03', 'avion', 'Grand Est', 'Occitanie',\n",
       "        '', '6'],\n",
       "       ['2020-04-03', '2020-04-03', 'avion', 'Grand Est',\n",
       "        'Nouvelle-Aquitaine', '', '24'],\n",
       "       ['2020-04-04', '2020-04-05', 'avion', 'Grand Est', 'Occitanie',\n",
       "        '', '12'],\n",
       "       ['2020-03-21', '2020-04-05', 'avion', 'Grand Est', '',\n",
       "        'Allemagne;Suisse;Luxembourg;Autriche', '172']], dtype='<U75')"
      ]
     },
     "execution_count": 52,
     "metadata": {},
     "output_type": "execute_result"
    }
   ],
   "source": [
    "depart_grand_est"
   ]
  },
  {
   "cell_type": "code",
   "execution_count": 57,
   "metadata": {},
   "outputs": [
    {
     "data": {
      "text/plain": [
       "array(['avion', 'avion', 'avion', 'avion', 'avion', 'avion', 'avion',\n",
       "       'avion', 'avion', 'avion', 'avion', 'avion', 'avion', 'avion'],\n",
       "      dtype='<U75')"
      ]
     },
     "execution_count": 57,
     "metadata": {},
     "output_type": "execute_result"
    }
   ],
   "source": [
    "#Mode de transport utilisé pour le transfert depuis le grand Est \n",
    "mode_depart_grand_est = depart_grand_est[:,2]\n",
    "mode_depart_grand_est\n"
   ]
  },
  {
   "cell_type": "code",
   "execution_count": 58,
   "metadata": {},
   "outputs": [],
   "source": [
    "mode_depart_grand_est_count = {}"
   ]
  },
  {
   "cell_type": "code",
   "execution_count": 59,
   "metadata": {},
   "outputs": [],
   "source": [
    "for item in mode_depart_grand_est:\n",
    "    if item in mode_depart_grand_est_count:\n",
    "        mode_depart_grand_est_count[item] +=1\n",
    "    else:\n",
    "        mode_depart_grand_est_count[item] = 1"
   ]
  },
  {
   "cell_type": "code",
   "execution_count": 60,
   "metadata": {},
   "outputs": [
    {
     "data": {
      "text/plain": [
       "{'avion': 14}"
      ]
     },
     "execution_count": 60,
     "metadata": {},
     "output_type": "execute_result"
    }
   ],
   "source": [
    "mode_depart_grand_est_count "
   ]
  },
  {
   "cell_type": "code",
   "execution_count": 61,
   "metadata": {},
   "outputs": [],
   "source": [
    "#date départ \n",
    "date_depart_grand_est = depart_grand_est[:,0]"
   ]
  },
  {
   "cell_type": "code",
   "execution_count": 62,
   "metadata": {},
   "outputs": [
    {
     "data": {
      "text/plain": [
       "array(['2020-03-18', '2020-03-21', '2020-03-23', '2020-03-26',\n",
       "       '2020-03-27', '2020-03-27', '2020-03-29', '2020-03-29',\n",
       "       '2020-03-31', '2020-04-01', '2020-04-03', '2020-04-03',\n",
       "       '2020-04-04', '2020-03-21'], dtype='<U75')"
      ]
     },
     "execution_count": 62,
     "metadata": {},
     "output_type": "execute_result"
    }
   ],
   "source": [
    "date_depart_grand_est"
   ]
  },
  {
   "cell_type": "code",
   "execution_count": 70,
   "metadata": {},
   "outputs": [],
   "source": [
    "# Conversion type en date \n",
    "date = date_depart_grand_est.astype('datetime64[ns]')\n",
    "    "
   ]
  },
  {
   "cell_type": "code",
   "execution_count": 72,
   "metadata": {},
   "outputs": [
    {
     "data": {
      "text/plain": [
       "array(['2020-03-18T00:00:00.000000000', '2020-03-21T00:00:00.000000000',\n",
       "       '2020-03-23T00:00:00.000000000', '2020-03-26T00:00:00.000000000',\n",
       "       '2020-03-27T00:00:00.000000000', '2020-03-27T00:00:00.000000000',\n",
       "       '2020-03-29T00:00:00.000000000', '2020-03-29T00:00:00.000000000',\n",
       "       '2020-03-31T00:00:00.000000000', '2020-04-01T00:00:00.000000000',\n",
       "       '2020-04-03T00:00:00.000000000', '2020-04-03T00:00:00.000000000',\n",
       "       '2020-04-04T00:00:00.000000000', '2020-03-21T00:00:00.000000000'],\n",
       "      dtype='datetime64[ns]')"
      ]
     },
     "execution_count": 72,
     "metadata": {},
     "output_type": "execute_result"
    }
   ],
   "source": [
    "date"
   ]
  },
  {
   "cell_type": "code",
   "execution_count": 73,
   "metadata": {},
   "outputs": [
    {
     "data": {
      "text/plain": [
       "array([['debut_transfert', 'fin_transfert', 'type_vecteur',\n",
       "        'region_depart', 'region_arrivee', 'pays_arrivee',\n",
       "        'nombre_patients_transferes'],\n",
       "       ['2020-03-18', '2020-03-18', 'avion', 'Grand Est',\n",
       "        \"Provence-Alpes-Côte-d'Azur\", '', '6'],\n",
       "       ['2020-03-21', '2020-03-21', 'avion', 'Grand Est',\n",
       "        'Nouvelle-Aquitaine', '', '6'],\n",
       "       ['2020-03-22', '2020-03-22', 'bateau militaire', 'Corse',\n",
       "        \"Provence-Alpes-Côte-d'Azur\", '', '12'],\n",
       "       ['2020-03-23', '2020-03-23', 'avion', 'Grand Est', 'Bretagne', '',\n",
       "        '6'],\n",
       "       ['2020-03-26', '2020-03-26', 'train', 'Grand Est',\n",
       "        'Pays-de-la-Loire', '', '20'],\n",
       "       ['2020-03-27', '2020-03-27', 'avion', 'Grand Est',\n",
       "        'Nouvelle-Aquitaine', '', '6'],\n",
       "       ['2020-03-27', '2020-03-28', 'avion', 'Grand Est',\n",
       "        'Nouvelle-Aquitaine', '', '12'],\n",
       "       ['2020-03-28', '2020-03-30', 'avion', 'Île-de-France',\n",
       "        'Centre-Val de Loire', '', '12'],\n",
       "       ['2020-03-27', '2020-03-30', 'avion;train',\n",
       "        'Bourgogne-Franche-Comté', 'Auvergne-Rhône-Alpes', '', '41'],\n",
       "       ['2020-03-28', '2020-03-30', 'avion', 'Bourgogne-Franche-Comté',\n",
       "        \"Provence-Alpes-Côte-d'Azur\", '', '10'],\n",
       "       ['2020-03-29', '2020-03-29', 'train', 'Grand Est',\n",
       "        'Nouvelle-Aquitaine', '', '12'],\n",
       "       ['2020-03-29', '2020-03-29', 'train', 'Grand Est',\n",
       "        'Nouvelle-Aquitaine', '', '24'],\n",
       "       ['2020-03-31', '2020-03-31', 'avion', 'Grand Est', '',\n",
       "        'Allemagne', '6'],\n",
       "       ['2020-04-01', '2020-04-01', 'train', 'Île-de-France', 'Bretagne',\n",
       "        '', '32'],\n",
       "       ['2020-04-01', '2020-04-02', 'avion', 'Grand Est', 'Occitanie',\n",
       "        '', '12'],\n",
       "       ['2020-04-01', '2020-04-03', 'avion', 'Île-de-France',\n",
       "        'Pays-de-la-Loire', '', '47'],\n",
       "       ['2020-04-01', '2020-04-03', 'avion;train', 'Île-de-France',\n",
       "        'Normandie', '', '44'],\n",
       "       ['2020-04-01', '2020-04-03', 'avion', 'Île-de-France',\n",
       "        'Centre-Val de Loire', '', '11'],\n",
       "       ['2020-04-03', '2020-04-03', 'avion', 'Grand Est', 'Occitanie',\n",
       "        '', '6'],\n",
       "       ['2020-04-03', '2020-04-03', 'train', 'Grand Est',\n",
       "        'Nouvelle-Aquitaine', '', '24'],\n",
       "       ['2020-04-03', '2020-04-04', 'avion', 'Île-de-France',\n",
       "        'Auvergne-Rhône-Alpes', '', '20'],\n",
       "       ['2020-04-04', '2020-04-05', 'avion', 'Grand Est', 'Occitanie',\n",
       "        '', '12'],\n",
       "       ['2020-04-05', '2020-04-05', 'train', 'Île-de-France', 'Bretagne',\n",
       "        '', '41'],\n",
       "       ['2020-03-21', '2020-04-05', 'avion;train', 'Grand Est', '',\n",
       "        'Allemagne;Suisse;Luxembourg;Autriche', '172'],\n",
       "       ['2020-03-26', '2020-03-28', 'avion', 'Bourgogne-Franche-Comté',\n",
       "        '', 'Suisse', '5'],\n",
       "       ['2020-04-10', '2020-04-10', 'train', 'Île-de-France',\n",
       "        'Nouvelle-Aquitaine', '', '45']], dtype='<U75')"
      ]
     },
     "execution_count": 73,
     "metadata": {},
     "output_type": "execute_result"
    }
   ],
   "source": [
    "#le nombre de départ par région\n",
    "transfert_COVID \n"
   ]
  },
  {
   "cell_type": "code",
   "execution_count": 74,
   "metadata": {},
   "outputs": [],
   "source": [
    "region_departs = transfert_COVID[:,3]"
   ]
  },
  {
   "cell_type": "code",
   "execution_count": 76,
   "metadata": {},
   "outputs": [
    {
     "data": {
      "text/plain": [
       "array(['region_depart', 'Grand Est', 'Grand Est', 'Corse', 'Grand Est',\n",
       "       'Grand Est', 'Grand Est', 'Grand Est', 'Île-de-France',\n",
       "       'Bourgogne-Franche-Comté', 'Bourgogne-Franche-Comté', 'Grand Est',\n",
       "       'Grand Est', 'Grand Est', 'Île-de-France', 'Grand Est',\n",
       "       'Île-de-France', 'Île-de-France', 'Île-de-France', 'Grand Est',\n",
       "       'Grand Est', 'Île-de-France', 'Grand Est', 'Île-de-France',\n",
       "       'Grand Est', 'Bourgogne-Franche-Comté', 'Île-de-France'],\n",
       "      dtype='<U75')"
      ]
     },
     "execution_count": 76,
     "metadata": {},
     "output_type": "execute_result"
    }
   ],
   "source": [
    "region_departs"
   ]
  },
  {
   "cell_type": "code",
   "execution_count": 78,
   "metadata": {},
   "outputs": [],
   "source": [
    "region_departs_count = {}"
   ]
  },
  {
   "cell_type": "code",
   "execution_count": 79,
   "metadata": {},
   "outputs": [],
   "source": [
    "for item in region_departs:\n",
    "    if item in region_departs_count:\n",
    "        region_departs_count[item] +=1\n",
    "    else:\n",
    "        region_departs_count[item] =1"
   ]
  },
  {
   "cell_type": "code",
   "execution_count": 80,
   "metadata": {},
   "outputs": [
    {
     "data": {
      "text/plain": [
       "{'region_depart': 1,\n",
       " 'Grand Est': 14,\n",
       " 'Corse': 1,\n",
       " 'Île-de-France': 8,\n",
       " 'Bourgogne-Franche-Comté': 3}"
      ]
     },
     "execution_count": 80,
     "metadata": {},
     "output_type": "execute_result"
    }
   ],
   "source": [
    "#le nombre de départ par région\n",
    "region_departs_count"
   ]
  },
  {
   "cell_type": "code",
   "execution_count": 87,
   "metadata": {},
   "outputs": [],
   "source": [
    "region_arrivée = transfert_COVID[:,4]"
   ]
  },
  {
   "cell_type": "code",
   "execution_count": 88,
   "metadata": {},
   "outputs": [
    {
     "data": {
      "text/plain": [
       "array(['region_arrivee', \"Provence-Alpes-Côte-d'Azur\",\n",
       "       'Nouvelle-Aquitaine', \"Provence-Alpes-Côte-d'Azur\", 'Bretagne',\n",
       "       'Pays-de-la-Loire', 'Nouvelle-Aquitaine', 'Nouvelle-Aquitaine',\n",
       "       'Centre-Val de Loire', 'Auvergne-Rhône-Alpes',\n",
       "       \"Provence-Alpes-Côte-d'Azur\", 'Nouvelle-Aquitaine',\n",
       "       'Nouvelle-Aquitaine', '', 'Bretagne', 'Occitanie',\n",
       "       'Pays-de-la-Loire', 'Normandie', 'Centre-Val de Loire',\n",
       "       'Occitanie', 'Nouvelle-Aquitaine', 'Auvergne-Rhône-Alpes',\n",
       "       'Occitanie', 'Bretagne', '', '', 'Nouvelle-Aquitaine'],\n",
       "      dtype='<U75')"
      ]
     },
     "execution_count": 88,
     "metadata": {},
     "output_type": "execute_result"
    }
   ],
   "source": [
    "region_arrivée"
   ]
  },
  {
   "cell_type": "code",
   "execution_count": 90,
   "metadata": {},
   "outputs": [],
   "source": [
    "region_arrivée_count = {}"
   ]
  },
  {
   "cell_type": "code",
   "execution_count": 96,
   "metadata": {},
   "outputs": [],
   "source": [
    "for item in region_arrivée:\n",
    "    if item in region_arrivée_count:\n",
    "        region_arrivée_count[item] += 1\n",
    "\n",
    "    else:\n",
    "        region_arrivée_count[item] = 1"
   ]
  },
  {
   "cell_type": "code",
   "execution_count": 97,
   "metadata": {},
   "outputs": [
    {
     "data": {
      "text/plain": [
       "{'region_arrivee': 1,\n",
       " \"Provence-Alpes-Côte-d'Azur\": 3,\n",
       " 'Nouvelle-Aquitaine': 7,\n",
       " 'Bretagne': 3,\n",
       " 'Pays-de-la-Loire': 2,\n",
       " 'Centre-Val de Loire': 2,\n",
       " 'Auvergne-Rhône-Alpes': 2,\n",
       " '': 3,\n",
       " 'Occitanie': 3,\n",
       " 'Normandie': 1}"
      ]
     },
     "execution_count": 97,
     "metadata": {},
     "output_type": "execute_result"
    }
   ],
   "source": [
    "# Le nombre d'arrivée par région \n",
    "region_arrivée_count"
   ]
  },
  {
   "cell_type": "code",
   "execution_count": null,
   "metadata": {},
   "outputs": [],
   "source": []
  }
 ],
 "metadata": {
  "kernelspec": {
   "display_name": "Python 3",
   "language": "python",
   "name": "python3"
  },
  "language_info": {
   "codemirror_mode": {
    "name": "ipython",
    "version": 3
   },
   "file_extension": ".py",
   "mimetype": "text/x-python",
   "name": "python",
   "nbconvert_exporter": "python",
   "pygments_lexer": "ipython3",
   "version": "3.7.6"
  }
 },
 "nbformat": 4,
 "nbformat_minor": 4
}
